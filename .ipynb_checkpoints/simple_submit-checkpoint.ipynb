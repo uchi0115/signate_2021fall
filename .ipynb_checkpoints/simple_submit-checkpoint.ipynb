{
 "cells": [
  {
   "cell_type": "code",
   "execution_count": 1,
   "metadata": {},
   "outputs": [],
   "source": [
    "#何も考えずに全部のデータを結合してモデルに放り込む"
   ]
  },
  {
   "cell_type": "code",
   "execution_count": null,
   "metadata": {},
   "outputs": [],
   "source": [
    "import pandas as pd\n",
    "import numpy as np\n",
    "import glob \n",
    "from datetime import timedelta\n",
    "from lightgbm import Dataset, LGBMRegressor\n",
    "from matplotlib import pyplot as plt\n",
    "import lightgbm as lgb\n",
    "import category_encoders as ce\n",
    "\n",
    "from sklearn.model_selection import train_test_split\n",
    "from sklearn.metrics import mean_squared_error\n",
    "from sklearn.utils.testing import all_estimators\n",
    "from matplotlib import pyplot as plt\n"
   ]
  },
  {
   "cell_type": "code",
   "execution_count": null,
   "metadata": {},
   "outputs": [],
   "source": [
    "station=pd.read_csv(\"../data/station.csv\")\n",
    "status=pd.read_csv(\"../data/status.csv\")\n",
    "trip=pd.read_csv(\"../data/trip.csv\")\n",
    "weather=pd.read_csv(\"../data/weather.csv\")\n",
    "submit=pd.read_csv('../data/sample_submit.csv',names=(0,1))"
   ]
  },
  {
   "cell_type": "code",
   "execution_count": null,
   "metadata": {},
   "outputs": [],
   "source": [
    "time_lis=list(range(1,24))\n",
    "station_lis=list(range(0,70))\n",
    "day_lis=list(status[(status['predict']==1)&(status['station_id']==0)]['date_day'].unique())\n"
   ]
  },
  {
   "cell_type": "code",
   "execution_count": null,
   "metadata": {},
   "outputs": [],
   "source": [
    "status[\"date\"] = pd.to_datetime(status[[\"year\", \"month\", \"day\", \"hour\"]])\n",
    "status[\"date_day\"] = pd.to_datetime(status[[\"year\", \"month\", \"day\"]])\n",
    "\n",
    "weather['date'] = pd.to_datetime(weather['date'])\n",
    "\n",
    "station['installation_date'] = pd.to_datetime(station['installation_date'])\n",
    "status['week_num'] = status['date'].dt.weekday\n"
   ]
  },
  {
   "cell_type": "code",
   "execution_count": null,
   "metadata": {},
   "outputs": [],
   "source": [
    "t = status.groupby(['station_id', 'date']).first()['bikes_available'].reset_index()\n",
    "#24回リピートすることでデータのサイズを合わせる\n",
    "t = pd.DataFrame(np.repeat(t.values, 24, axis=0))\n",
    "t.columns = ['station_id', 'date', 'bikes_available_at0']\n",
    "status['bikes_available_at0'] = t['bikes_available_at0']\n"
   ]
  },
  {
   "cell_type": "code",
   "execution_count": null,
   "metadata": {},
   "outputs": [],
   "source": [
    "cols = ['city']\n",
    "\n",
    "encoder = ce.CountEncoder()\n",
    "temp_ = encoder.fit_transform(station[cols]).add_prefix(\"CE_\")\n",
    "\n",
    "station = pd.concat([station, temp_], axis=1)\n",
    "\n",
    "cols = ['events']\n",
    "\n",
    "encoder = ce.CountEncoder()\n",
    "temp_ = encoder.fit_transform(weather[cols]).add_prefix(\"CE_\")\n",
    "\n",
    "weather = pd.concat([weather, temp_], axis=1)\n"
   ]
  },
  {
   "cell_type": "code",
   "execution_count": null,
   "metadata": {},
   "outputs": [],
   "source": [
    "status_station=pd.merge(status,station,how=\"left\")\n",
    "all_df=pd.merge(status_station,weather,left_on='date_day',right_on='date')\n",
    "\n"
   ]
  },
  {
   "cell_type": "code",
   "execution_count": null,
   "metadata": {},
   "outputs": [],
   "source": [
    "#ステーション設置からの経過日数\n",
    "all_df['inst_days']=(all_df['date_y']-all_df['installation_date'])/timedelta(days=1)\n"
   ]
  },
  {
   "cell_type": "code",
   "execution_count": null,
   "metadata": {},
   "outputs": [],
   "source": [
    "test_col=['hour', 'station_id','week_num','bikes_available_at0','lat', 'long', 'dock_count', 'CE_city','max_temperature', 'mean_temperature', 'min_temperature',\n",
    " 'max_dew_point', 'mean_dew_point', 'min_dew_point', 'max_humidity', 'mean_humidity', 'min_humidity', 'max_sea_level_pressure','mean_sea_level_pressure', 'min_sea_level_pressure', 'max_visibility',\n",
    " 'mean_visibility', 'min_visibility', 'max_wind_Speed','mean_wind_speed', 'precipitation', 'cloud_cover','wind_dir_degrees', 'CE_events', 'inst_days'\n",
    "]"
   ]
  },
  {
   "cell_type": "code",
   "execution_count": null,
   "metadata": {},
   "outputs": [],
   "source": [
    "train=all_df[all_df['date_x']<=day_lis[0]]\n",
    "pres=all_df[all_df['predict']==1]"
   ]
  },
  {
   "cell_type": "code",
   "execution_count": null,
   "metadata": {},
   "outputs": [],
   "source": [
    "from sklearn.ensemble import RandomForestRegressor\n",
    "regr = RandomForestRegressor(max_depth=15, random_state=0)\n",
    "regr.fit(train_X, train_y)\n",
    "val_predict = regr.predict(valid_X)"
   ]
  },
  {
   "cell_type": "code",
   "execution_count": null,
   "metadata": {},
   "outputs": [],
   "source": [
    "submit[1]=list(val_predict)"
   ]
  },
  {
   "cell_type": "code",
   "execution_count": null,
   "metadata": {},
   "outputs": [],
   "source": [
    "submit.to_csv(\"submission.csv\",index=False, header=False)"
   ]
  },
  {
   "cell_type": "code",
   "execution_count": null,
   "metadata": {},
   "outputs": [],
   "source": []
  },
  {
   "cell_type": "code",
   "execution_count": null,
   "metadata": {},
   "outputs": [],
   "source": []
  }
 ],
 "metadata": {
  "kernelspec": {
   "display_name": "Python 3",
   "language": "python",
   "name": "python3"
  },
  "language_info": {
   "codemirror_mode": {
    "name": "ipython",
    "version": 3
   },
   "file_extension": ".py",
   "mimetype": "text/x-python",
   "name": "python",
   "nbconvert_exporter": "python",
   "pygments_lexer": "ipython3",
   "version": "3.8.3"
  }
 },
 "nbformat": 4,
 "nbformat_minor": 4
}
